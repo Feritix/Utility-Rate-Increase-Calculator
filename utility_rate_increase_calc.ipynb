{
 "cells": [
  {
   "cell_type": "code",
   "execution_count": 2,
   "metadata": {},
   "outputs": [
  
   ],
   "source": [
    "def utility_increase_calc (bill, rate, yrs):\n",
    "    rate = 1 + rate / 100\n",
    "    new_bill = int(round(bill*rate**yrs, 0))\n",
    "\n",
    "    bill_yr = bill * 12\n",
    "    total = 0\n",
    "    for i in range(yrs):\n",
    "        total += bill_yr\n",
    "        bill_yr *= rate\n",
    "        \n",
    "    total = int(round(total, 0))\n",
    "    return f'Your utility bill today:\\n{bill}\\nYour bill in {yrs} years:\\n{new_bill}\\nTotal utility cost over {yrs} years:\\n{total}'\n",
    "\n",
    "bill = int(input('Current bill:'))\n",
    "rate_increase = int(input('Expected rate increase:'))\n",
    "years = int(input('Number of years:'))\n",
    "\n",
    "print(utility_increase_calc(bill, rate_increase, years))"
   ]
  }
 ],
 "metadata": {
  "kernelspec": {
   "display_name": "Python 3.10.6 ('jupyter_venv')",
   "language": "python",
   "name": "python3"
  },
  "language_info": {
   "codemirror_mode": {
    "name": "ipython",
    "version": 3
   },
   "file_extension": ".py",
   "mimetype": "text/x-python",
   "name": "python",
   "nbconvert_exporter": "python",
   "pygments_lexer": "ipython3",
   "version": "3.10.6"
  },
  "orig_nbformat": 4,
  "vscode": {
   "interpreter": {
    "hash": "aee1349be8f647df4e021ae0d7958816226239f024254feae37b63cba0509a5d"
   }
  }
 },
 "nbformat": 4,
 "nbformat_minor": 2
}
